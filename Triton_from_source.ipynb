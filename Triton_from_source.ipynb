{
  "nbformat": 4,
  "nbformat_minor": 0,
  "metadata": {
    "colab": {
      "private_outputs": true,
      "provenance": [],
      "gpuType": "V100"
    },
    "kernelspec": {
      "name": "python3",
      "display_name": "Python 3"
    },
    "language_info": {
      "name": "python"
    },
    "accelerator": "GPU"
  },
  "cells": [
    {
      "cell_type": "code",
      "source": [
        "!git clone https://github.com/openai/triton.git"
      ],
      "metadata": {
        "id": "_tQ-R9atfaQM"
      },
      "execution_count": null,
      "outputs": []
    },
    {
      "cell_type": "code",
      "source": [],
      "metadata": {
        "id": "QfkHK6CqOAtu"
      },
      "execution_count": null,
      "outputs": []
    },
    {
      "cell_type": "code",
      "execution_count": null,
      "metadata": {
        "id": "50FKuYGLUf4G"
      },
      "outputs": [],
      "source": [
        "\n",
        "%cd /content/triton/python\n",
        "\n",
        "!pip3 install cmake; # build-time dependency\n",
        "!pip3 install -e ."
      ]
    },
    {
      "cell_type": "markdown",
      "source": [
        "Before running the tests, check if libcuda.so needs to be added to the shared libraries."
      ],
      "metadata": {
        "id": "qJar82XNxkdm"
      }
    },
    {
      "cell_type": "code",
      "source": [
        "!ldconfig -p | grep libcuda"
      ],
      "metadata": {
        "id": "EGpIZbupxrSD"
      },
      "execution_count": null,
      "outputs": []
    },
    {
      "cell_type": "code",
      "source": [
        "!find /usr -name 'libcuda.so'"
      ],
      "metadata": {
        "id": "4H-E2UIUxvp_"
      },
      "execution_count": null,
      "outputs": []
    },
    {
      "cell_type": "code",
      "source": [
        "!ldconfig /usr/lib64-nvidia"
      ],
      "metadata": {
        "id": "ECAjuuoXx6gr"
      },
      "execution_count": null,
      "outputs": []
    },
    {
      "cell_type": "code",
      "source": [
        "!pip3 install -e '.[tests]'\n",
        "!pytest -log-format=\"%(asctime)s %(levelname)s %(message)s\" --log-date-format=\"%Y-%m-%d %H:%M:%S\" -vs test/unit/"
      ],
      "metadata": {
        "id": "nrCEWZKbdduZ"
      },
      "execution_count": null,
      "outputs": []
    }
  ]
}